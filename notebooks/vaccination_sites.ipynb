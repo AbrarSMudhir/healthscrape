{
 "cells": [
  {
   "cell_type": "code",
   "execution_count": 2,
   "metadata": {},
   "outputs": [],
   "source": [
    "import sys\n",
    "sys.path.append('..')\n",
    "import healthscrape"
   ]
  },
  {
   "cell_type": "markdown",
   "metadata": {
    "jupyter": {
     "outputs_hidden": true
    }
   },
   "source": [
    "# Vaccination Sites Data"
   ]
  },
  {
   "cell_type": "code",
   "execution_count": 3,
   "metadata": {},
   "outputs": [],
   "source": [
    "df = healthscrape.get_vaccination_sites(country='united kingdom')"
   ]
  },
  {
   "cell_type": "code",
   "execution_count": 4,
   "metadata": {},
   "outputs": [
    {
     "data": {
      "text/html": [
       "<div>\n",
       "<style scoped>\n",
       "    .dataframe tbody tr th:only-of-type {\n",
       "        vertical-align: middle;\n",
       "    }\n",
       "\n",
       "    .dataframe tbody tr th {\n",
       "        vertical-align: top;\n",
       "    }\n",
       "\n",
       "    .dataframe thead th {\n",
       "        text-align: right;\n",
       "    }\n",
       "</style>\n",
       "<table border=\"1\" class=\"dataframe\">\n",
       "  <thead>\n",
       "    <tr style=\"text-align: right;\">\n",
       "      <th></th>\n",
       "      <th>country</th>\n",
       "      <th>region</th>\n",
       "      <th>body</th>\n",
       "      <th>trust_or_site_name</th>\n",
       "      <th>address</th>\n",
       "      <th>postcode</th>\n",
       "    </tr>\n",
       "  </thead>\n",
       "  <tbody>\n",
       "    <tr>\n",
       "      <th>0</th>\n",
       "      <td>united kingdom</td>\n",
       "      <td>East of England</td>\n",
       "      <td>Bedfordshire, Luton and Milton Keynes STP</td>\n",
       "      <td>Milton Keynes University Hospital NHS Foundati...</td>\n",
       "      <td>Standing Way</td>\n",
       "      <td>MK6 5LD</td>\n",
       "    </tr>\n",
       "    <tr>\n",
       "      <th>1</th>\n",
       "      <td>united kingdom</td>\n",
       "      <td>East of England</td>\n",
       "      <td>Cambridgeshire and Peterborough STP</td>\n",
       "      <td>Cambridge University Hospital NHS Foundation T...</td>\n",
       "      <td>Addenbrookes Hospital</td>\n",
       "      <td>CB2 0QQ</td>\n",
       "    </tr>\n",
       "    <tr>\n",
       "      <th>2</th>\n",
       "      <td>united kingdom</td>\n",
       "      <td>East of England</td>\n",
       "      <td>Cambridgeshire and Peterborough STP</td>\n",
       "      <td>North West Anglia NHS Foundation Trust</td>\n",
       "      <td>Peterborough City Hospital</td>\n",
       "      <td>PE3 9GZ</td>\n",
       "    </tr>\n",
       "    <tr>\n",
       "      <th>3</th>\n",
       "      <td>united kingdom</td>\n",
       "      <td>East of England</td>\n",
       "      <td>Hertfordshire and West Essex STP</td>\n",
       "      <td>East and North Hertfordshire NHS Trust</td>\n",
       "      <td>Lister Hospital</td>\n",
       "      <td>SG1 4AB</td>\n",
       "    </tr>\n",
       "    <tr>\n",
       "      <th>4</th>\n",
       "      <td>united kingdom</td>\n",
       "      <td>East of England</td>\n",
       "      <td>Norfolk and Waveney Health and Care Partnershi...</td>\n",
       "      <td>James Paget University Hospitals NHS Foundatio...</td>\n",
       "      <td>Lowestoft Road</td>\n",
       "      <td>NR31 6LA</td>\n",
       "    </tr>\n",
       "  </tbody>\n",
       "</table>\n",
       "</div>"
      ],
      "text/plain": [
       "          country           region  \\\n",
       "0  united kingdom  East of England   \n",
       "1  united kingdom  East of England   \n",
       "2  united kingdom  East of England   \n",
       "3  united kingdom  East of England   \n",
       "4  united kingdom  East of England   \n",
       "\n",
       "                                                body  \\\n",
       "0          Bedfordshire, Luton and Milton Keynes STP   \n",
       "1                Cambridgeshire and Peterborough STP   \n",
       "2                Cambridgeshire and Peterborough STP   \n",
       "3                   Hertfordshire and West Essex STP   \n",
       "4  Norfolk and Waveney Health and Care Partnershi...   \n",
       "\n",
       "                                  trust_or_site_name  \\\n",
       "0  Milton Keynes University Hospital NHS Foundati...   \n",
       "1  Cambridge University Hospital NHS Foundation T...   \n",
       "2             North West Anglia NHS Foundation Trust   \n",
       "3             East and North Hertfordshire NHS Trust   \n",
       "4  James Paget University Hospitals NHS Foundatio...   \n",
       "\n",
       "                      address  postcode  \n",
       "0                Standing Way   MK6 5LD  \n",
       "1       Addenbrookes Hospital   CB2 0QQ  \n",
       "2  Peterborough City Hospital   PE3 9GZ  \n",
       "3             Lister Hospital   SG1 4AB  \n",
       "4              Lowestoft Road  NR31 6LA  "
      ]
     },
     "execution_count": 4,
     "metadata": {},
     "output_type": "execute_result"
    }
   ],
   "source": [
    "df.head()"
   ]
  }
 ],
 "metadata": {
  "kernelspec": {
   "display_name": "Python 3",
   "language": "python",
   "name": "python3"
  },
  "language_info": {
   "codemirror_mode": {
    "name": "ipython",
    "version": 3
   },
   "file_extension": ".py",
   "mimetype": "text/x-python",
   "name": "python",
   "nbconvert_exporter": "python",
   "pygments_lexer": "ipython3",
   "version": "3.8.2"
  }
 },
 "nbformat": 4,
 "nbformat_minor": 4
}
