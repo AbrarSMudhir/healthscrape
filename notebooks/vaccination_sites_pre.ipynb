{
 "cells": [
  {
   "cell_type": "code",
   "execution_count": 106,
   "metadata": {},
   "outputs": [],
   "source": [
    "import requests\n",
    "from bs4 import BeautifulSoup\n",
    "import pandas as pd\n",
    "from urllib.request import urlopen\n",
    "from io import BytesIO "
   ]
  },
  {
   "cell_type": "markdown",
   "metadata": {
    "jupyter": {
     "outputs_hidden": true
    }
   },
   "source": [
    "# Vaccination Sites Data"
   ]
  },
  {
   "cell_type": "code",
   "execution_count": 60,
   "metadata": {},
   "outputs": [],
   "source": [
    "url = 'https://www.england.nhs.uk/coronavirus/publication/vaccination-sites/'"
   ]
  },
  {
   "cell_type": "code",
   "execution_count": 61,
   "metadata": {},
   "outputs": [],
   "source": [
    "page = requests.get(url)"
   ]
  },
  {
   "cell_type": "code",
   "execution_count": 62,
   "metadata": {},
   "outputs": [],
   "source": [
    "soup = BeautifulSoup(page.content, 'html.parser')"
   ]
  },
  {
   "cell_type": "code",
   "execution_count": 64,
   "metadata": {},
   "outputs": [],
   "source": [
    "links = soup.find_all(\"a\", {\"class\": \"doc-thumbnail\"})"
   ]
  },
  {
   "cell_type": "code",
   "execution_count": 65,
   "metadata": {},
   "outputs": [
    {
     "name": "stdout",
     "output_type": "stream",
     "text": [
      "<a class=\"doc-thumbnail\" href=\"https://www.england.nhs.uk/coronavirus/wp-content/uploads/sites/52/2021/01/map-of-vaccination-sites-2-april-2021.pdf\">\n",
      " <img alt=\"Map of vaccination sites - 2 April 2021\" src=\"https://www.england.nhs.uk/coronavirus/wp-content/themes/nhsengland/assets/img/document-icons/pdf.png\"/>\n",
      "</a>\n",
      "\n",
      "<a class=\"doc-thumbnail\" href=\"https://www.england.nhs.uk/coronavirus/wp-content/uploads/sites/52/2021/01/list-of-vaccination-sites-2-april-2021.xlsx\">\n",
      " <img alt=\"List of vaccination sites - 2 April 2021\" src=\"https://www.england.nhs.uk/coronavirus/wp-content/themes/nhsengland/assets/img/document-icons/xls.png\"/>\n",
      "</a>\n",
      "\n"
     ]
    }
   ],
   "source": [
    "for link in links:\n",
    "    print(link.prettify())"
   ]
  },
  {
   "cell_type": "code",
   "execution_count": 86,
   "metadata": {},
   "outputs": [],
   "source": [
    "data_url = [link['href'] for link in links if '.xlsx' in link['href']][0]"
   ]
  },
  {
   "cell_type": "code",
   "execution_count": 87,
   "metadata": {},
   "outputs": [
    {
     "data": {
      "text/plain": [
       "'https://www.england.nhs.uk/coronavirus/wp-content/uploads/sites/52/2021/01/list-of-vaccination-sites-2-april-2021.xlsx'"
      ]
     },
     "execution_count": 87,
     "metadata": {},
     "output_type": "execute_result"
    }
   ],
   "source": [
    "data_url"
   ]
  },
  {
   "cell_type": "code",
   "execution_count": 99,
   "metadata": {},
   "outputs": [],
   "source": [
    "sheet_names = ['Hospital Hubs', 'GP-led vaccination services', 'Pharmacies', 'Vaccination centres']"
   ]
  },
  {
   "cell_type": "code",
   "execution_count": 89,
   "metadata": {},
   "outputs": [],
   "source": [
    "xld = urlopen(data_url).read()"
   ]
  },
  {
   "cell_type": "code",
   "execution_count": 92,
   "metadata": {},
   "outputs": [],
   "source": [
    "xlds = BytesIO(xld)"
   ]
  },
  {
   "cell_type": "code",
   "execution_count": 97,
   "metadata": {},
   "outputs": [],
   "source": [
    "hospital_hubs_df = pd.read_excel(xlds, sheet_names[0])"
   ]
  },
  {
   "cell_type": "code",
   "execution_count": 98,
   "metadata": {},
   "outputs": [
    {
     "data": {
      "text/html": [
       "<div>\n",
       "<style scoped>\n",
       "    .dataframe tbody tr th:only-of-type {\n",
       "        vertical-align: middle;\n",
       "    }\n",
       "\n",
       "    .dataframe tbody tr th {\n",
       "        vertical-align: top;\n",
       "    }\n",
       "\n",
       "    .dataframe thead th {\n",
       "        text-align: right;\n",
       "    }\n",
       "</style>\n",
       "<table border=\"1\" class=\"dataframe\">\n",
       "  <thead>\n",
       "    <tr style=\"text-align: right;\">\n",
       "      <th></th>\n",
       "      <th>Region</th>\n",
       "      <th>STP/ICS</th>\n",
       "      <th>Trust or site name</th>\n",
       "      <th>Site Address Details</th>\n",
       "      <th>Postcode</th>\n",
       "    </tr>\n",
       "  </thead>\n",
       "  <tbody>\n",
       "    <tr>\n",
       "      <th>0</th>\n",
       "      <td>East of England</td>\n",
       "      <td>Bedfordshire, Luton and Milton Keynes STP</td>\n",
       "      <td>Milton Keynes University Hospital NHS Foundati...</td>\n",
       "      <td>Standing Way</td>\n",
       "      <td>MK6 5LD</td>\n",
       "    </tr>\n",
       "    <tr>\n",
       "      <th>1</th>\n",
       "      <td>East of England</td>\n",
       "      <td>Cambridgeshire and Peterborough STP</td>\n",
       "      <td>Cambridge University Hospital NHS Foundation T...</td>\n",
       "      <td>Addenbrookes Hospital</td>\n",
       "      <td>CB2 0QQ</td>\n",
       "    </tr>\n",
       "    <tr>\n",
       "      <th>2</th>\n",
       "      <td>East of England</td>\n",
       "      <td>Cambridgeshire and Peterborough STP</td>\n",
       "      <td>North West Anglia NHS Foundation Trust</td>\n",
       "      <td>Peterborough City Hospital</td>\n",
       "      <td>PE3 9GZ</td>\n",
       "    </tr>\n",
       "    <tr>\n",
       "      <th>3</th>\n",
       "      <td>East of England</td>\n",
       "      <td>Hertfordshire and West Essex STP</td>\n",
       "      <td>East and North Hertfordshire NHS Trust</td>\n",
       "      <td>Lister Hospital</td>\n",
       "      <td>SG1 4AB</td>\n",
       "    </tr>\n",
       "    <tr>\n",
       "      <th>4</th>\n",
       "      <td>East of England</td>\n",
       "      <td>Norfolk and Waveney Health and Care Partnershi...</td>\n",
       "      <td>James Paget University Hospitals NHS Foundatio...</td>\n",
       "      <td>Lowestoft Road</td>\n",
       "      <td>NR31 6LA</td>\n",
       "    </tr>\n",
       "  </tbody>\n",
       "</table>\n",
       "</div>"
      ],
      "text/plain": [
       "            Region                                            STP/ICS  \\\n",
       "0  East of England          Bedfordshire, Luton and Milton Keynes STP   \n",
       "1  East of England                Cambridgeshire and Peterborough STP   \n",
       "2  East of England                Cambridgeshire and Peterborough STP   \n",
       "3  East of England                   Hertfordshire and West Essex STP   \n",
       "4  East of England  Norfolk and Waveney Health and Care Partnershi...   \n",
       "\n",
       "                                  Trust or site name  \\\n",
       "0  Milton Keynes University Hospital NHS Foundati...   \n",
       "1  Cambridge University Hospital NHS Foundation T...   \n",
       "2             North West Anglia NHS Foundation Trust   \n",
       "3             East and North Hertfordshire NHS Trust   \n",
       "4  James Paget University Hospitals NHS Foundatio...   \n",
       "\n",
       "         Site Address Details  Postcode  \n",
       "0                Standing Way   MK6 5LD  \n",
       "1       Addenbrookes Hospital   CB2 0QQ  \n",
       "2  Peterborough City Hospital   PE3 9GZ  \n",
       "3             Lister Hospital   SG1 4AB  \n",
       "4              Lowestoft Road  NR31 6LA  "
      ]
     },
     "execution_count": 98,
     "metadata": {},
     "output_type": "execute_result"
    }
   ],
   "source": [
    "hospital_hubs_df.head()"
   ]
  },
  {
   "cell_type": "code",
   "execution_count": 100,
   "metadata": {},
   "outputs": [],
   "source": [
    "gp_led_vaccination_services_df =  pd.read_excel(xlds, sheet_names[1])"
   ]
  },
  {
   "cell_type": "code",
   "execution_count": 101,
   "metadata": {},
   "outputs": [
    {
     "data": {
      "text/html": [
       "<div>\n",
       "<style scoped>\n",
       "    .dataframe tbody tr th:only-of-type {\n",
       "        vertical-align: middle;\n",
       "    }\n",
       "\n",
       "    .dataframe tbody tr th {\n",
       "        vertical-align: top;\n",
       "    }\n",
       "\n",
       "    .dataframe thead th {\n",
       "        text-align: right;\n",
       "    }\n",
       "</style>\n",
       "<table border=\"1\" class=\"dataframe\">\n",
       "  <thead>\n",
       "    <tr style=\"text-align: right;\">\n",
       "      <th></th>\n",
       "      <th>Region</th>\n",
       "      <th>CCG</th>\n",
       "      <th>Site name</th>\n",
       "      <th>Address</th>\n",
       "      <th>Postcode</th>\n",
       "    </tr>\n",
       "  </thead>\n",
       "  <tbody>\n",
       "    <tr>\n",
       "      <th>0</th>\n",
       "      <td>East of England</td>\n",
       "      <td>NHS Basildon and Brentwood CCG</td>\n",
       "      <td>Brentwood Centre</td>\n",
       "      <td>Doddinghurst Road, Pilgrims Hatch, Brentwood</td>\n",
       "      <td>CM15 9NN</td>\n",
       "    </tr>\n",
       "    <tr>\n",
       "      <th>1</th>\n",
       "      <td>East of England</td>\n",
       "      <td>NHS Basildon and Brentwood CCG</td>\n",
       "      <td>Emmanuel Church Hall</td>\n",
       "      <td>Laindon Road, Billericay</td>\n",
       "      <td>CM12 9LD</td>\n",
       "    </tr>\n",
       "    <tr>\n",
       "      <th>2</th>\n",
       "      <td>East of England</td>\n",
       "      <td>NHS Basildon and Brentwood CCG</td>\n",
       "      <td>George Hurd Centre</td>\n",
       "      <td>Audley Way, Basildon</td>\n",
       "      <td>SS14 2FL</td>\n",
       "    </tr>\n",
       "    <tr>\n",
       "      <th>3</th>\n",
       "      <td>East of England</td>\n",
       "      <td>NHS Basildon and Brentwood CCG</td>\n",
       "      <td>The Nevendon Centre</td>\n",
       "      <td>Nevendon Road, Wickford</td>\n",
       "      <td>SS12 0QG</td>\n",
       "    </tr>\n",
       "    <tr>\n",
       "      <th>4</th>\n",
       "      <td>East of England</td>\n",
       "      <td>NHS Bedfordshire CCG</td>\n",
       "      <td>Guru Nanak Gurdwara</td>\n",
       "      <td>84 Ford End Road, Bedford</td>\n",
       "      <td>MK40 4JX</td>\n",
       "    </tr>\n",
       "  </tbody>\n",
       "</table>\n",
       "</div>"
      ],
      "text/plain": [
       "            Region                             CCG             Site name  \\\n",
       "0  East of England  NHS Basildon and Brentwood CCG      Brentwood Centre   \n",
       "1  East of England  NHS Basildon and Brentwood CCG  Emmanuel Church Hall   \n",
       "2  East of England  NHS Basildon and Brentwood CCG    George Hurd Centre   \n",
       "3  East of England  NHS Basildon and Brentwood CCG   The Nevendon Centre   \n",
       "4  East of England            NHS Bedfordshire CCG   Guru Nanak Gurdwara   \n",
       "\n",
       "                                       Address  Postcode   \n",
       "0  Doddinghurst Road, Pilgrims Hatch, Brentwood  CM15 9NN  \n",
       "1                      Laindon Road, Billericay  CM12 9LD  \n",
       "2                          Audley Way, Basildon  SS14 2FL  \n",
       "3                       Nevendon Road, Wickford  SS12 0QG  \n",
       "4                     84 Ford End Road, Bedford  MK40 4JX  "
      ]
     },
     "execution_count": 101,
     "metadata": {},
     "output_type": "execute_result"
    }
   ],
   "source": [
    "gp_led_vaccination_services_df.head()"
   ]
  },
  {
   "cell_type": "code",
   "execution_count": 102,
   "metadata": {},
   "outputs": [],
   "source": [
    "pharmacies_df =  pd.read_excel(xlds, sheet_names[2])"
   ]
  },
  {
   "cell_type": "code",
   "execution_count": 103,
   "metadata": {},
   "outputs": [
    {
     "data": {
      "text/html": [
       "<div>\n",
       "<style scoped>\n",
       "    .dataframe tbody tr th:only-of-type {\n",
       "        vertical-align: middle;\n",
       "    }\n",
       "\n",
       "    .dataframe tbody tr th {\n",
       "        vertical-align: top;\n",
       "    }\n",
       "\n",
       "    .dataframe thead th {\n",
       "        text-align: right;\n",
       "    }\n",
       "</style>\n",
       "<table border=\"1\" class=\"dataframe\">\n",
       "  <thead>\n",
       "    <tr style=\"text-align: right;\">\n",
       "      <th></th>\n",
       "      <th>Site name</th>\n",
       "      <th>Address</th>\n",
       "      <th>Postcode</th>\n",
       "    </tr>\n",
       "  </thead>\n",
       "  <tbody>\n",
       "    <tr>\n",
       "      <th>0</th>\n",
       "      <td>A R Pharmacy</td>\n",
       "      <td>3 Hazel Farm Road, Southampton, Hampshire</td>\n",
       "      <td>SO40 8WU</td>\n",
       "    </tr>\n",
       "    <tr>\n",
       "      <th>1</th>\n",
       "      <td>ABC Drug Store - Downton</td>\n",
       "      <td>5 High Street, Downton, Salisbury</td>\n",
       "      <td>SP5 3PG</td>\n",
       "    </tr>\n",
       "    <tr>\n",
       "      <th>2</th>\n",
       "      <td>Ace Pharmacy</td>\n",
       "      <td>1 Ace Parade, Hook Road, Chessington, Surrey</td>\n",
       "      <td>KT9 1DR</td>\n",
       "    </tr>\n",
       "    <tr>\n",
       "      <th>3</th>\n",
       "      <td>Acklam Road Pharmacy</td>\n",
       "      <td>89 Acklam Road, Middlesbrough, Cleveland</td>\n",
       "      <td>TS5 5HR</td>\n",
       "    </tr>\n",
       "    <tr>\n",
       "      <th>4</th>\n",
       "      <td>Acorn Pharmacy</td>\n",
       "      <td>Unit 2, Remembrance Road, Coventry, West Midlands</td>\n",
       "      <td>CV3 3DP</td>\n",
       "    </tr>\n",
       "  </tbody>\n",
       "</table>\n",
       "</div>"
      ],
      "text/plain": [
       "                  Site name  \\\n",
       "0              A R Pharmacy   \n",
       "1  ABC Drug Store - Downton   \n",
       "2              Ace Pharmacy   \n",
       "3      Acklam Road Pharmacy   \n",
       "4            Acorn Pharmacy   \n",
       "\n",
       "                                            Address   Postcode  \n",
       "0          3 Hazel Farm Road, Southampton, Hampshire  SO40 8WU  \n",
       "1                  5 High Street, Downton, Salisbury   SP5 3PG  \n",
       "2       1 Ace Parade, Hook Road, Chessington, Surrey   KT9 1DR  \n",
       "3           89 Acklam Road, Middlesbrough, Cleveland   TS5 5HR  \n",
       "4  Unit 2, Remembrance Road, Coventry, West Midlands   CV3 3DP  "
      ]
     },
     "execution_count": 103,
     "metadata": {},
     "output_type": "execute_result"
    }
   ],
   "source": [
    "pharmacies_df.head()"
   ]
  },
  {
   "cell_type": "code",
   "execution_count": 104,
   "metadata": {},
   "outputs": [],
   "source": [
    "vaccination_centres_df = pd.read_excel(xlds, sheet_names[3])"
   ]
  },
  {
   "cell_type": "code",
   "execution_count": 105,
   "metadata": {},
   "outputs": [
    {
     "data": {
      "text/html": [
       "<div>\n",
       "<style scoped>\n",
       "    .dataframe tbody tr th:only-of-type {\n",
       "        vertical-align: middle;\n",
       "    }\n",
       "\n",
       "    .dataframe tbody tr th {\n",
       "        vertical-align: top;\n",
       "    }\n",
       "\n",
       "    .dataframe thead th {\n",
       "        text-align: right;\n",
       "    }\n",
       "</style>\n",
       "<table border=\"1\" class=\"dataframe\">\n",
       "  <thead>\n",
       "    <tr style=\"text-align: right;\">\n",
       "      <th></th>\n",
       "      <th>Region\\n</th>\n",
       "      <th>STP/ICS</th>\n",
       "      <th>Centre</th>\n",
       "      <th>Address</th>\n",
       "      <th>Postcode</th>\n",
       "    </tr>\n",
       "  </thead>\n",
       "  <tbody>\n",
       "    <tr>\n",
       "      <th>0</th>\n",
       "      <td>East of England</td>\n",
       "      <td>Bedfordshire, Luton and Milton Keynes</td>\n",
       "      <td>Bedford Heights</td>\n",
       "      <td>Brickhill Drive, Bedford</td>\n",
       "      <td>MK41 7PH</td>\n",
       "    </tr>\n",
       "    <tr>\n",
       "      <th>1</th>\n",
       "      <td>East of England</td>\n",
       "      <td>Bedfordshire, Luton and Milton Keynes</td>\n",
       "      <td>Biggleswade Community Hospital ​</td>\n",
       "      <td>Potton Road, Biggleswade</td>\n",
       "      <td>SG18 0EJ</td>\n",
       "    </tr>\n",
       "    <tr>\n",
       "      <th>2</th>\n",
       "      <td>East of England</td>\n",
       "      <td>Bedfordshire, Luton and Milton Keynes</td>\n",
       "      <td>Inspire: Luton Sports Village</td>\n",
       "      <td>Butterfield Green Rd, Luton</td>\n",
       "      <td>LU2 8DD</td>\n",
       "    </tr>\n",
       "    <tr>\n",
       "      <th>3</th>\n",
       "      <td>East of England</td>\n",
       "      <td>Bedfordshire, Luton and Milton Keynes</td>\n",
       "      <td>Priory House</td>\n",
       "      <td>Monks Walk, Chicksands, Shefford</td>\n",
       "      <td>SG17 5TQ</td>\n",
       "    </tr>\n",
       "    <tr>\n",
       "      <th>4</th>\n",
       "      <td>East of England</td>\n",
       "      <td>Bedfordshire, Luton and Milton Keynes</td>\n",
       "      <td>Redgrave Children's Centre</td>\n",
       "      <td>Redgrave Children's Centre, Luton</td>\n",
       "      <td>LU3 3QN</td>\n",
       "    </tr>\n",
       "  </tbody>\n",
       "</table>\n",
       "</div>"
      ],
      "text/plain": [
       "          Region\\n                                STP/ICS  \\\n",
       "0  East of England  Bedfordshire, Luton and Milton Keynes   \n",
       "1  East of England  Bedfordshire, Luton and Milton Keynes   \n",
       "2  East of England  Bedfordshire, Luton and Milton Keynes   \n",
       "3  East of England  Bedfordshire, Luton and Milton Keynes   \n",
       "4  East of England  Bedfordshire, Luton and Milton Keynes   \n",
       "\n",
       "                             Centre                            Address  \\\n",
       "0                   Bedford Heights           Brickhill Drive, Bedford   \n",
       "1  Biggleswade Community Hospital ​           Potton Road, Biggleswade   \n",
       "2  Inspire: Luton Sports Village           Butterfield Green Rd, Luton   \n",
       "3                      Priory House   Monks Walk, Chicksands, Shefford   \n",
       "4        Redgrave Children's Centre  Redgrave Children's Centre, Luton   \n",
       "\n",
       "   Postcode  \n",
       "0  MK41 7PH  \n",
       "1  SG18 0EJ  \n",
       "2   LU2 8DD  \n",
       "3  SG17 5TQ  \n",
       "4   LU3 3QN  "
      ]
     },
     "execution_count": 105,
     "metadata": {},
     "output_type": "execute_result"
    }
   ],
   "source": [
    "vaccination_centres_df.head()"
   ]
  }
 ],
 "metadata": {
  "kernelspec": {
   "display_name": "Python 3",
   "language": "python",
   "name": "python3"
  },
  "language_info": {
   "codemirror_mode": {
    "name": "ipython",
    "version": 3
   },
   "file_extension": ".py",
   "mimetype": "text/x-python",
   "name": "python",
   "nbconvert_exporter": "python",
   "pygments_lexer": "ipython3",
   "version": "3.8.2"
  }
 },
 "nbformat": 4,
 "nbformat_minor": 4
}
